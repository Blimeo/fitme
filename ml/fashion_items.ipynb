{
 "metadata": {
  "language_info": {
   "codemirror_mode": {
    "name": "ipython",
    "version": 3
   },
   "file_extension": ".py",
   "mimetype": "text/x-python",
   "name": "python",
   "nbconvert_exporter": "python",
   "pygments_lexer": "ipython3",
   "version": "3.8.7-final"
  },
  "orig_nbformat": 2,
  "kernelspec": {
   "name": "python3",
   "display_name": "Python 3",
   "language": "python"
  }
 },
 "nbformat": 4,
 "nbformat_minor": 2,
 "cells": [
  {
   "cell_type": "code",
   "execution_count": 1,
   "metadata": {
    "tags": []
   },
   "outputs": [
    {
     "output_type": "stream",
     "name": "stdout",
     "text": [
      "{'Suits': 1, 'Cushion Covers': 1, 'Body Wash and Scrub': 1, 'Ipad': 1, 'Mens Grooming Kit': 1, 'Hair Accessory': 1, 'Shoe Laces': 1, 'Ties and Cufflinks': 2, 'Key chain': 2, 'Rain Trousers': 2, 'Face Serum and Gel': 2, 'Hat': 3, 'Tablet Sleeve': 3, 'Trolley Bag': 3, 'Lounge Tshirts': 3, 'Lehenga Choli': 4, 'Robe': 4, 'Lip Plumper': 4, 'Beauty Accessory': 4, 'Makeup Remover': 4, 'Nehru Jackets': 5, 'Toner': 5, 'Face Scrub and Exfoliator': 5, 'Umbrellas': 6, 'Shrug': 6, 'Eye Cream': 6, 'Nail Essentials': 6, 'Body Lotion': 6, 'Headband': 7, 'Wristbands': 7, 'Salwar and Dupatta': 7, 'Footballs': 8, 'Blazers': 8, 'Clothing Set': 8, 'Tights': 9, 'Shapewear': 9, 'Rucksacks': 11, 'Water Bottle': 11, 'Concealer': 11, 'Booties': 12, 'Rompers': 12, 'Mask and Peel': 12, 'Basketballs': 13, 'Mascara': 13, 'Waistcoat': 15, 'Travel Accessory': 16, 'Jumpsuit': 16, 'Baby Dolls': 16, 'Lip Care': 16, 'Waist Pouch': 17, 'Swimwear': 17, 'Rain Jacket': 18, 'Hair Colour': 19, 'Gloves': 20, 'Bath Robe': 20, 'Shoe Accessories': 23, 'Sunscreen': 25, 'Face Wash and Cleanser': 28, 'Tracksuits': 29, 'Churidar': 30, 'Stockings': 32, 'Salwar': 32, 'Lounge Shorts': 34, 'Jeggings': 34, 'Mufflers': 38, 'Patiala': 38, 'Camisoles': 39, 'Suspenders': 40, 'Eyeshadow': 42, 'Messenger Bag': 44, 'Mobile Pouch': 47, 'Lip Liner': 48, 'Compact': 49, 'Boxers': 52, 'Highlighter and Blush': 53, 'Fragrance Gift Set': 57, 'Jewellery Set': 58, 'Lounge Pants': 61, 'Face Moisturisers': 61, 'Bracelet': 66, 'Sports Sandals': 67, 'Foundation and Primer': 76, 'Laptop Bag': 82, 'Bangle': 85, 'Duffel Bag': 88, 'Stoles': 90, 'Free Gifts': 91, 'Kurta Sets': 94, 'Kajal and Eyeliner': 102, 'Cufflinks': 106, 'Accessory Gift Set': 111, 'Dupatta': 116, 'Ring': 118, 'Scarves': 119, 'Skirts': 128, 'Trunk': 140, 'Night suits': 141, 'Lip Gloss': 144, 'Necklace and Chains': 160, 'Capris': 175, 'Pendant': 176, 'Leggings': 177, 'Nightdress': 189, 'Tunics': 229, 'Kurtis': 234, 'Innerwear Vests': 242, 'Jackets': 258, 'Ties': 263, 'Sweaters': 277, 'Caps': 283, 'Sweatshirts': 285, 'Clutches': 290, 'Track Pants': 304, 'Lipstick': 315, 'Nail Polish': 329, 'Deodorant': 347, 'Earrings': 417, 'Sarees': 427, 'Dresses': 464, 'Bra': 477, 'Flats': 500, 'Trousers': 530, 'Shorts': 547, 'Jeans': 609, 'Perfume and Body Mist': 614, 'Formal Shoes': 637, 'Socks': 686, 'Backpacks': 724, 'Belts': 813, 'Briefs': 849, 'Sandals': 897, 'Flip Flops': 916, 'Wallets': 936, 'Sunglasses': 1073, 'Heels': 1323, 'Handbags': 1759, 'Tops': 1762, 'Kurtas': 1844, 'Sports Shoes': 2036, 'Watches': 2542, 'Casual Shoes': 2846, 'Shirts': 3217, 'Tshirts': 7070}\n['Tshirts', 'Shirts', 'Casual Shoes', 'Watches', 'Sports Shoes', 'Kurtas', 'Tops', 'Handbags', 'Heels', 'Sunglasses', 'Wallets', 'Flip Flops', 'Sandals', 'Briefs', 'Belts', 'Backpacks', 'Socks', 'Formal Shoes', 'Perfume and Body Mist', 'Jeans', 'Shorts', 'Trousers', 'Flats', 'Bra', 'Dresses', 'Sarees', 'Earrings', 'Deodorant', 'Nail Polish', 'Lipstick', 'Track Pants', 'Clutches', 'Sweatshirts', 'Caps', 'Sweaters', 'Ties', 'Jackets', 'Innerwear Vests', 'Kurtis', 'Tunics']\n"
     ]
    }
   ],
   "source": [
    "import os\n",
    "import json\n",
    "\n",
    "my_set = set()\n",
    "dict = {}\n",
    "for _file in os.listdir():\n",
    "    with open(_file) as f:\n",
    "        d = json.load(f)\n",
    "        if \"data\" in d:\n",
    "            if \"articleType\" in d[\"data\"]:\n",
    "                sub = d[\"data\"][\"articleType\"]\n",
    "                if \"typeName\" in sub:\n",
    "                    color = sub[\"typeName\"]\n",
    "                    if color not in dict:\n",
    "                        dict[color] = 1\n",
    "                    else:\n",
    "                        dict[color] += 1\n",
    "sorted_dict = {k: v for k, v in sorted(dict.items(), key=lambda item: item[1])}\n",
    "print(sorted_dict)\n",
    "print(list(sorted_dict.keys())[len(sorted_dict) - 1:len(sorted_dict) - 41:-1])\n"
   ]
  },
  {
   "cell_type": "code",
   "execution_count": null,
   "metadata": {},
   "outputs": [],
   "source": []
  }
 ]
}